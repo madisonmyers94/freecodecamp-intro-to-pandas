{
  "nbformat": 4,
  "nbformat_minor": 0,
  "metadata": {
    "kernelspec": {
      "display_name": "Python 3",
      "language": "python",
      "name": "python3"
    },
    "language_info": {
      "codemirror_mode": {
        "name": "ipython",
        "version": 3
      },
      "file_extension": ".py",
      "mimetype": "text/x-python",
      "name": "python",
      "nbconvert_exporter": "python",
      "pygments_lexer": "ipython3",
      "version": "3.7.4"
    },
    "colab": {
      "name": "2 - Pandas Series exercises.ipynb",
      "provenance": []
    }
  },
  "cells": [
    {
      "cell_type": "markdown",
      "metadata": {
        "id": "x9xMrz0mJnIx"
      },
      "source": [
        "![rmotr](https://user-images.githubusercontent.com/7065401/52071918-bda15380-2562-11e9-828c-7f95297e4a82.png)\n",
        "<hr style=\"margin-bottom: 40px;\">\n",
        "\n",
        "# Pandas Series exercises\n"
      ]
    },
    {
      "cell_type": "code",
      "metadata": {
        "id": "VA6mWU9wJnIx",
        "outputId": "43fbe663-72dc-4fba-cace-72e98613899d",
        "colab": {
          "base_uri": "https://localhost:8080/"
        }
      },
      "source": [
        "# Import the numpy package under the name np\n",
        "import numpy as np\n",
        "\n",
        "# Import the pandas package under the name pd\n",
        "import pandas as pd\n",
        "\n",
        "# Print the pandas version and the configuration\n",
        "print(pd.__version__)"
      ],
      "execution_count": 2,
      "outputs": [
        {
          "output_type": "stream",
          "text": [
            "1.1.4\n"
          ],
          "name": "stdout"
        }
      ]
    },
    {
      "cell_type": "markdown",
      "metadata": {
        "id": "nfN-8u-RJnIx"
      },
      "source": [
        "![purple-divider](https://user-images.githubusercontent.com/7065401/52071927-c1cd7100-2562-11e9-908a-dde91ba14e59.png)\n",
        "\n",
        "## Series creation"
      ]
    },
    {
      "cell_type": "markdown",
      "metadata": {
        "id": "tF1opWkSJnIx"
      },
      "source": [
        "### Create an empty pandas Series"
      ]
    },
    {
      "cell_type": "code",
      "metadata": {
        "id": "1jwczzlSJnIx",
        "outputId": "abfc7437-5a44-428f-e75c-2fda58085c06",
        "colab": {
          "base_uri": "https://localhost:8080/"
        }
      },
      "source": [
        "# your code goes here\n",
        "pd.Series()"
      ],
      "execution_count": 5,
      "outputs": [
        {
          "output_type": "stream",
          "text": [
            "/usr/local/lib/python3.6/dist-packages/ipykernel_launcher.py:2: DeprecationWarning: The default dtype for empty Series will be 'object' instead of 'float64' in a future version. Specify a dtype explicitly to silence this warning.\n",
            "  \n"
          ],
          "name": "stderr"
        },
        {
          "output_type": "execute_result",
          "data": {
            "text/plain": [
              "Series([], dtype: float64)"
            ]
          },
          "metadata": {
            "tags": []
          },
          "execution_count": 5
        }
      ]
    },
    {
      "cell_type": "code",
      "metadata": {
        "cell_type": "solution",
        "id": "j-OmoUoVJnIx",
        "outputId": "548d31fc-a2f8-46e4-a43c-babb6d697661",
        "colab": {
          "base_uri": "https://localhost:8080/"
        }
      },
      "source": [
        "pd.Series()"
      ],
      "execution_count": 4,
      "outputs": [
        {
          "output_type": "stream",
          "text": [
            "/usr/local/lib/python3.6/dist-packages/ipykernel_launcher.py:1: DeprecationWarning: The default dtype for empty Series will be 'object' instead of 'float64' in a future version. Specify a dtype explicitly to silence this warning.\n",
            "  \"\"\"Entry point for launching an IPython kernel.\n"
          ],
          "name": "stderr"
        },
        {
          "output_type": "execute_result",
          "data": {
            "text/plain": [
              "Series([], dtype: float64)"
            ]
          },
          "metadata": {
            "tags": []
          },
          "execution_count": 4
        }
      ]
    },
    {
      "cell_type": "markdown",
      "metadata": {
        "id": "7_hh6OFlJnIy"
      },
      "source": [
        "![green-divider](https://user-images.githubusercontent.com/7065401/52071924-c003ad80-2562-11e9-8297-1c6595f8a7ff.png)\n",
        "\n",
        "### Given the X python list convert it to an Y pandas Series"
      ]
    },
    {
      "cell_type": "code",
      "metadata": {
        "id": "a4odR_SrJnIy",
        "outputId": "1c01b61d-68b4-4985-c69f-a3fbbe616d6e",
        "colab": {
          "base_uri": "https://localhost:8080/"
        }
      },
      "source": [
        "# your code goes here\n",
        "x = [1,2,3,4,5]\n",
        "print(x, type(x))\n",
        "y = pd.Series(x)\n",
        "print(y,type(y))"
      ],
      "execution_count": 6,
      "outputs": [
        {
          "output_type": "stream",
          "text": [
            "[1, 2, 3, 4, 5] <class 'list'>\n",
            "0    1\n",
            "1    2\n",
            "2    3\n",
            "3    4\n",
            "4    5\n",
            "dtype: int64 <class 'pandas.core.series.Series'>\n"
          ],
          "name": "stdout"
        }
      ]
    },
    {
      "cell_type": "code",
      "metadata": {
        "cell_type": "solution",
        "id": "Od6MTeUuJnIy"
      },
      "source": [
        "X = ['A','B','C']\n",
        "print(X, type(X))\n",
        "\n",
        "Y = pd.Series(X)\n",
        "print(Y, type(Y)) # different type"
      ],
      "execution_count": null,
      "outputs": []
    },
    {
      "cell_type": "markdown",
      "metadata": {
        "id": "IK-ducKHJnIy"
      },
      "source": [
        "![green-divider](https://user-images.githubusercontent.com/7065401/52071924-c003ad80-2562-11e9-8297-1c6595f8a7ff.png)\n",
        "\n",
        "### Given the X pandas Series, name it 'My letters'"
      ]
    },
    {
      "cell_type": "code",
      "metadata": {
        "id": "d3GoUwiBJnIy",
        "outputId": "dfc1d758-6da0-4efe-cf15-b4bc861ad0fa",
        "colab": {
          "base_uri": "https://localhost:8080/"
        }
      },
      "source": [
        "# your code goes here\n",
        "x = pd.Series(['a','b','c','d'])\n",
        "x.name = 'My letters'\n",
        "print(x)"
      ],
      "execution_count": 9,
      "outputs": [
        {
          "output_type": "execute_result",
          "data": {
            "text/plain": [
              "0    a\n",
              "1    b\n",
              "2    c\n",
              "3    d\n",
              "Name: My letters, dtype: object"
            ]
          },
          "metadata": {
            "tags": []
          },
          "execution_count": 9
        }
      ]
    },
    {
      "cell_type": "code",
      "metadata": {
        "cell_type": "solution",
        "id": "_5ZBXN_8JnIy"
      },
      "source": [
        "X = pd.Series(['A','B','C'])\n",
        "\n",
        "X.name = 'My letters'\n",
        "X"
      ],
      "execution_count": null,
      "outputs": []
    },
    {
      "cell_type": "markdown",
      "metadata": {
        "id": "efNC3kZvJnIy"
      },
      "source": [
        "![green-divider](https://user-images.githubusercontent.com/7065401/52071924-c003ad80-2562-11e9-8297-1c6595f8a7ff.png)\n",
        "\n",
        "### Given the X pandas Series, show its values\n"
      ]
    },
    {
      "cell_type": "code",
      "metadata": {
        "id": "8VzAmdvHJnIy",
        "outputId": "be0a557b-7fae-4ba4-f584-808b396700fb",
        "colab": {
          "base_uri": "https://localhost:8080/"
        }
      },
      "source": [
        "# your code goes here\n",
        "x = pd.Series(['a','b','c','d'])\n",
        "x.values"
      ],
      "execution_count": 10,
      "outputs": [
        {
          "output_type": "execute_result",
          "data": {
            "text/plain": [
              "array(['a', 'b', 'c', 'd'], dtype=object)"
            ]
          },
          "metadata": {
            "tags": []
          },
          "execution_count": 10
        }
      ]
    },
    {
      "cell_type": "code",
      "metadata": {
        "cell_type": "solution",
        "id": "KnMI777oJnIy",
        "outputId": "b9554a00-5b71-440f-fb7e-080c9e221d4b",
        "colab": {
          "base_uri": "https://localhost:8080/"
        }
      },
      "source": [
        "X = pd.Series(['A','B','C'])\n",
        "\n",
        "X.values"
      ],
      "execution_count": 11,
      "outputs": [
        {
          "output_type": "execute_result",
          "data": {
            "text/plain": [
              "array(['A', 'B', 'C'], dtype=object)"
            ]
          },
          "metadata": {
            "tags": []
          },
          "execution_count": 11
        }
      ]
    },
    {
      "cell_type": "markdown",
      "metadata": {
        "id": "o-GWwXMtJnIy"
      },
      "source": [
        "![purple-divider](https://user-images.githubusercontent.com/7065401/52071927-c1cd7100-2562-11e9-908a-dde91ba14e59.png)\n",
        "\n",
        "## Series indexation"
      ]
    },
    {
      "cell_type": "markdown",
      "metadata": {
        "id": "W_V4ZC1sJnIy"
      },
      "source": [
        "### Assign index names to the given X pandas Series\n"
      ]
    },
    {
      "cell_type": "code",
      "metadata": {
        "id": "JiQr0CSEJnIz",
        "outputId": "5a1dbf20-418e-4ae6-c2d1-1f401e4e9eb8",
        "colab": {
          "base_uri": "https://localhost:8080/"
        }
      },
      "source": [
        "# your code goes here\n",
        "x = pd.Series(['a','b','c','d'])\n",
        "index_names= ['one','two','three','four']\n",
        "\n",
        "x.index = index_names\n",
        "print(x)"
      ],
      "execution_count": 14,
      "outputs": [
        {
          "output_type": "execute_result",
          "data": {
            "text/plain": [
              "array(['a', 'b', 'c', 'd'], dtype=object)"
            ]
          },
          "metadata": {
            "tags": []
          },
          "execution_count": 14
        }
      ]
    },
    {
      "cell_type": "code",
      "metadata": {
        "cell_type": "solution",
        "id": "ejU_exeZJnIz"
      },
      "source": [
        "X = pd.Series(['A','B','C'])\n",
        "index_names = ['first', 'second', 'third']\n",
        "\n",
        "X.index = index_names\n",
        "X"
      ],
      "execution_count": null,
      "outputs": []
    },
    {
      "cell_type": "code",
      "metadata": {
        "id": "TH2Z8gStLc1I"
      },
      "source": [
        ""
      ],
      "execution_count": null,
      "outputs": []
    },
    {
      "cell_type": "markdown",
      "metadata": {
        "id": "e_Yru-UrJnIz"
      },
      "source": [
        "![green-divider](https://user-images.githubusercontent.com/7065401/52071924-c003ad80-2562-11e9-8297-1c6595f8a7ff.png)\n",
        "\n",
        "### Given the X pandas Series, show its first element\n"
      ]
    },
    {
      "cell_type": "code",
      "metadata": {
        "id": "awRItEczJnIz",
        "outputId": "caf75a53-8599-4053-e466-663cd88ed33d",
        "colab": {
          "base_uri": "https://localhost:8080/"
        }
      },
      "source": [
        "# your code goes here\n",
        "x = pd.Series(['a','b','c','d'], ['one','two','three','four'])\n",
        "print(x.iloc[0])\n",
        "print(x['one'])\n",
        "print(x[0:3])\n"
      ],
      "execution_count": 26,
      "outputs": [
        {
          "output_type": "stream",
          "text": [
            "a\n",
            "a\n",
            "one      a\n",
            "two      b\n",
            "three    c\n",
            "dtype: object\n"
          ],
          "name": "stdout"
        }
      ]
    },
    {
      "cell_type": "code",
      "metadata": {
        "cell_type": "solution",
        "id": "5ot4LBy3JnIz"
      },
      "source": [
        "X = pd.Series(['A','B','C'], index=['first', 'second', 'third'])\n",
        "\n",
        "#X[0] # by position\n",
        "#X.iloc[0] # by position\n",
        "X['first'] # by index"
      ],
      "execution_count": null,
      "outputs": []
    },
    {
      "cell_type": "markdown",
      "metadata": {
        "id": "-Z-jT5OmJnIz"
      },
      "source": [
        "![green-divider](https://user-images.githubusercontent.com/7065401/52071924-c003ad80-2562-11e9-8297-1c6595f8a7ff.png)\n",
        "\n",
        "### Given the X pandas Series, show its last element\n"
      ]
    },
    {
      "cell_type": "code",
      "metadata": {
        "id": "2Uh8Y4LUJnIz",
        "outputId": "d4d64b7e-c486-4618-a799-41b88188fc58",
        "colab": {
          "base_uri": "https://localhost:8080/"
        }
      },
      "source": [
        "# your code goes here\n",
        "x = pd.Series(['a','b','c','d'], ['one','two','three','four'])\n",
        "print(x[-1])\n",
        "print(x.iloc[-1])\n"
      ],
      "execution_count": 27,
      "outputs": [
        {
          "output_type": "stream",
          "text": [
            "d\n",
            "d\n"
          ],
          "name": "stdout"
        }
      ]
    },
    {
      "cell_type": "code",
      "metadata": {
        "cell_type": "solution",
        "id": "A6DCjvi1JnIz"
      },
      "source": [
        "X = pd.Series(['A','B','C'], index=['first', 'second', 'third'])\n",
        "\n",
        "#X[-1] # by position\n",
        "#X.iloc[-1] # by position\n",
        "X['third'] # by index"
      ],
      "execution_count": null,
      "outputs": []
    },
    {
      "cell_type": "markdown",
      "metadata": {
        "id": "CKYdEN-UJnIz"
      },
      "source": [
        "![green-divider](https://user-images.githubusercontent.com/7065401/52071924-c003ad80-2562-11e9-8297-1c6595f8a7ff.png)\n",
        "\n",
        "### Given the X pandas Series, show all middle elements\n"
      ]
    },
    {
      "cell_type": "code",
      "metadata": {
        "id": "IB6bG1ghJnIz",
        "outputId": "5d460bfe-1c2e-414c-c299-c73b30fcf452",
        "colab": {
          "base_uri": "https://localhost:8080/"
        }
      },
      "source": [
        "# your code goes here\n",
        "x = pd.Series(['a','b','c','d','e'], ['one','two','three','four','five'])\n",
        "\n",
        "x.iloc[1:-1]"
      ],
      "execution_count": 30,
      "outputs": [
        {
          "output_type": "execute_result",
          "data": {
            "text/plain": [
              "two      b\n",
              "three    c\n",
              "four     d\n",
              "dtype: object"
            ]
          },
          "metadata": {
            "tags": []
          },
          "execution_count": 30
        }
      ]
    },
    {
      "cell_type": "code",
      "metadata": {
        "cell_type": "solution",
        "id": "mXFfJdE1JnIz"
      },
      "source": [
        "X = pd.Series(['A','B','C','D','E'],\n",
        "              index=['first','second','third','forth','fifth'])\n",
        "\n",
        "#X[['second', 'third', 'forth']]\n",
        "#X.iloc[1:-1] # by position\n",
        "X[1:-1] # by position"
      ],
      "execution_count": null,
      "outputs": []
    },
    {
      "cell_type": "markdown",
      "metadata": {
        "id": "3zxA91G4JnIz"
      },
      "source": [
        "![green-divider](https://user-images.githubusercontent.com/7065401/52071924-c003ad80-2562-11e9-8297-1c6595f8a7ff.png)\n",
        "\n",
        "### Given the X pandas Series, show the elements in reverse position\n"
      ]
    },
    {
      "cell_type": "code",
      "metadata": {
        "id": "kPrWMJrHJnIz",
        "outputId": "272f2a41-fb34-455f-dda1-341df631fb38",
        "colab": {
          "base_uri": "https://localhost:8080/"
        }
      },
      "source": [
        "# your code goes here\n",
        "\n",
        "x = pd.Series(['a','b','c','d'], ['one','two','three','four'])\n",
        "\n",
        "print(x.iloc[::-1])\n",
        "print(x[::-1])\n",
        "\n",
        "\n",
        "\n",
        "\n"
      ],
      "execution_count": 33,
      "outputs": [
        {
          "output_type": "stream",
          "text": [
            "four     d\n",
            "three    c\n",
            "two      b\n",
            "one      a\n",
            "dtype: object\n",
            "four     d\n",
            "three    c\n",
            "two      b\n",
            "one      a\n",
            "dtype: object\n"
          ],
          "name": "stdout"
        }
      ]
    },
    {
      "cell_type": "code",
      "metadata": {
        "cell_type": "solution",
        "id": "wtAIA4Y7JnIz"
      },
      "source": [
        "X = pd.Series(['A','B','C','D','E'],\n",
        "              index=['first','second','third','forth','fifth'])\n",
        "\n",
        "#X.iloc[::-1]\n",
        "X[::-1]"
      ],
      "execution_count": null,
      "outputs": []
    },
    {
      "cell_type": "markdown",
      "metadata": {
        "id": "U4OhtdXjJnIz"
      },
      "source": [
        "![green-divider](https://user-images.githubusercontent.com/7065401/52071924-c003ad80-2562-11e9-8297-1c6595f8a7ff.png)\n",
        "\n",
        "### Given the X pandas Series, show the first and last elements\n"
      ]
    },
    {
      "cell_type": "code",
      "metadata": {
        "id": "hMGMduaXJnIz",
        "outputId": "2837e11b-88a9-46c8-ee8d-961834be4f5a",
        "colab": {
          "base_uri": "https://localhost:8080/"
        }
      },
      "source": [
        "# your code goes here\n",
        "x = pd.Series(['A','B','C','D','E'],\n",
        "              index=['first','second','third','forth','fifth'])\n",
        "\n",
        "\n",
        "print(x.iloc[[0,-1]])"
      ],
      "execution_count": 36,
      "outputs": [
        {
          "output_type": "stream",
          "text": [
            "first    A\n",
            "fifth    E\n",
            "dtype: object\n"
          ],
          "name": "stdout"
        }
      ]
    },
    {
      "cell_type": "code",
      "metadata": {
        "cell_type": "solution",
        "id": "w1kvp-nIJnIz"
      },
      "source": [
        "X = pd.Series(['A','B','C','D','E'],\n",
        "              index=['first','second','third','forth','fifth'])\n",
        "\n",
        "#X[['first', 'fifth']]\n",
        "#X.iloc[[0, -1]]\n",
        "X[[0, -1]]"
      ],
      "execution_count": null,
      "outputs": []
    },
    {
      "cell_type": "markdown",
      "metadata": {
        "id": "XrEw3OrxJnIz"
      },
      "source": [
        "![purple-divider](https://user-images.githubusercontent.com/7065401/52071927-c1cd7100-2562-11e9-908a-dde91ba14e59.png)\n",
        "\n",
        "## Series manipulation"
      ]
    },
    {
      "cell_type": "markdown",
      "metadata": {
        "id": "vVAJwgzUJnIz"
      },
      "source": [
        "### Convert the given integer pandas Series to float\n"
      ]
    },
    {
      "cell_type": "code",
      "metadata": {
        "id": "NtcrW3WhJnIz",
        "outputId": "a184f45c-366e-424f-9291-5dd47bb81acc",
        "colab": {
          "base_uri": "https://localhost:8080/"
        }
      },
      "source": [
        "# your code goes here\n",
        "x = pd.Series([1,2,3,4,5],\n",
        "              index=['first','second','third','forth','fifth'])\n",
        "\n",
        "pd.Series(x, dtype=np.float)\n",
        "\n",
        "print(x)\n",
        "\n"
      ],
      "execution_count": 38,
      "outputs": [
        {
          "output_type": "stream",
          "text": [
            "first     1\n",
            "second    2\n",
            "third     3\n",
            "forth     4\n",
            "fifth     5\n",
            "dtype: int64\n"
          ],
          "name": "stdout"
        }
      ]
    },
    {
      "cell_type": "code",
      "metadata": {
        "cell_type": "solution",
        "id": "iPYB19G_JnIz"
      },
      "source": [
        "X = pd.Series([1,2,3,4,5],\n",
        "              index=['first','second','third','forth','fifth'])\n",
        "\n",
        "pd.Series(X, dtype=np.float)"
      ],
      "execution_count": null,
      "outputs": []
    },
    {
      "cell_type": "markdown",
      "metadata": {
        "id": "FWQRKMaiJnIz"
      },
      "source": [
        "![green-divider](https://user-images.githubusercontent.com/7065401/52071924-c003ad80-2562-11e9-8297-1c6595f8a7ff.png)\n",
        "\n",
        "### Reverse the given pandas Series (first element becomes last)"
      ]
    },
    {
      "cell_type": "code",
      "metadata": {
        "id": "hLxycEIlJnIz",
        "outputId": "8ff6c1b2-42d0-4d17-e497-67d2e613023e",
        "colab": {
          "base_uri": "https://localhost:8080/"
        }
      },
      "source": [
        "# your code goes here\n",
        "x = pd.Series([1,2,3,4,5],\n",
        "              index=['first','second','third','forth','fifth'])\n",
        "\n",
        "print(x[::-1])\n",
        "\n",
        "\n",
        "\n",
        "\n",
        "\n",
        "\n"
      ],
      "execution_count": 39,
      "outputs": [
        {
          "output_type": "stream",
          "text": [
            "fifth     5\n",
            "forth     4\n",
            "third     3\n",
            "second    2\n",
            "first     1\n",
            "dtype: int64\n"
          ],
          "name": "stdout"
        }
      ]
    },
    {
      "cell_type": "code",
      "metadata": {
        "cell_type": "solution",
        "id": "nQfoXvgNJnIz"
      },
      "source": [
        "X = pd.Series([1,2,3,4,5],\n",
        "              index=['first','second','third','forth','fifth'])\n",
        "\n",
        "X[::-1]"
      ],
      "execution_count": null,
      "outputs": []
    },
    {
      "cell_type": "markdown",
      "metadata": {
        "id": "xc52VgE_JnIz"
      },
      "source": [
        "![green-divider](https://user-images.githubusercontent.com/7065401/52071924-c003ad80-2562-11e9-8297-1c6595f8a7ff.png)\n",
        "\n",
        "### Order (sort) the given pandas Series\n"
      ]
    },
    {
      "cell_type": "code",
      "metadata": {
        "id": "_ZA3RMOwJnIz",
        "outputId": "cedd0450-24b2-461e-a65d-6ebf33618b9b",
        "colab": {
          "base_uri": "https://localhost:8080/"
        }
      },
      "source": [
        "# your code goes here\n",
        "X = pd.Series([4,2,5,1,3],\n",
        "              index=['forth','second','fifth','first','third'])\n",
        "\n",
        "X = X.sort_values()\n",
        "\n",
        "print(X)\n",
        "\n",
        "\n",
        "\n",
        "\n",
        "\n",
        "\n"
      ],
      "execution_count": 40,
      "outputs": [
        {
          "output_type": "stream",
          "text": [
            "first     1\n",
            "second    2\n",
            "third     3\n",
            "forth     4\n",
            "fifth     5\n",
            "dtype: int64\n"
          ],
          "name": "stdout"
        }
      ]
    },
    {
      "cell_type": "code",
      "metadata": {
        "cell_type": "solution",
        "id": "yEBW9THpJnI0"
      },
      "source": [
        "X = pd.Series([4,2,5,1,3],\n",
        "              index=['forth','second','fifth','first','third'])\n",
        "\n",
        "X = X.sort_values()\n",
        "X"
      ],
      "execution_count": null,
      "outputs": []
    },
    {
      "cell_type": "markdown",
      "metadata": {
        "id": "C-99Ek8pJnI0"
      },
      "source": [
        "![green-divider](https://user-images.githubusercontent.com/7065401/52071924-c003ad80-2562-11e9-8297-1c6595f8a7ff.png)\n",
        "\n",
        "### Given the X pandas Series, set the fifth element equal to 10\n"
      ]
    },
    {
      "cell_type": "code",
      "metadata": {
        "id": "mpS0bk4SJnI0",
        "outputId": "f59b092e-1921-4e5e-ac3e-bee8c6d3b38a",
        "colab": {
          "base_uri": "https://localhost:8080/"
        }
      },
      "source": [
        "# your code goes here\n",
        "X = pd.Series([1,2,3,4,5],\n",
        "              index=['A','B','C','D','E'])\n",
        "\n",
        "X[4] = 10\n",
        "print(X)\n",
        "\n",
        "\n"
      ],
      "execution_count": 43,
      "outputs": [
        {
          "output_type": "stream",
          "text": [
            "A     1\n",
            "B     2\n",
            "C     3\n",
            "D     4\n",
            "E    10\n",
            "dtype: int64\n"
          ],
          "name": "stdout"
        }
      ]
    },
    {
      "cell_type": "code",
      "metadata": {
        "cell_type": "solution",
        "id": "9f-YtjJxJnI0",
        "outputId": "c6a6ecf1-c54c-498a-b1a1-78fc9ba21860",
        "colab": {
          "base_uri": "https://localhost:8080/"
        }
      },
      "source": [
        "X = pd.Series([1,2,3,4,5],\n",
        "              index=['A','B','C','D','E'])\n",
        "\n",
        "X[4] = 10\n",
        "X"
      ],
      "execution_count": 44,
      "outputs": [
        {
          "output_type": "execute_result",
          "data": {
            "text/plain": [
              "A     1\n",
              "B     2\n",
              "C     3\n",
              "D     4\n",
              "E    10\n",
              "dtype: int64"
            ]
          },
          "metadata": {
            "tags": []
          },
          "execution_count": 44
        }
      ]
    },
    {
      "cell_type": "markdown",
      "metadata": {
        "id": "_MvMf91_JnI0"
      },
      "source": [
        "![green-divider](https://user-images.githubusercontent.com/7065401/52071924-c003ad80-2562-11e9-8297-1c6595f8a7ff.png)\n",
        "\n",
        "### Given the X pandas Series, change all the middle elements to 0\n"
      ]
    },
    {
      "cell_type": "code",
      "metadata": {
        "id": "raq-XlCvJnI0",
        "outputId": "2e681d3b-0f6d-4135-eba6-838dc854ddcb",
        "colab": {
          "base_uri": "https://localhost:8080/"
        }
      },
      "source": [
        "# your code goes here\n",
        "X = pd.Series([1,2,3,4,5],\n",
        "              index=['A','B','C','D','E'])\n",
        "\n",
        "X[1:-1] = 0\n",
        "print(X)"
      ],
      "execution_count": 47,
      "outputs": [
        {
          "output_type": "stream",
          "text": [
            "A    1\n",
            "B    0\n",
            "C    0\n",
            "D    0\n",
            "E    5\n",
            "dtype: int64\n"
          ],
          "name": "stdout"
        }
      ]
    },
    {
      "cell_type": "code",
      "metadata": {
        "cell_type": "solution",
        "scrolled": false,
        "id": "1cobtPA4JnI0"
      },
      "source": [
        "X = pd.Series([1,2,3,4,5],\n",
        "              index=['A','B','C','D','E'])\n",
        "\n",
        "X[1:-1] = 0\n",
        "X"
      ],
      "execution_count": null,
      "outputs": []
    },
    {
      "cell_type": "markdown",
      "metadata": {
        "id": "vJAUGyuWJnI0"
      },
      "source": [
        "![green-divider](https://user-images.githubusercontent.com/7065401/52071924-c003ad80-2562-11e9-8297-1c6595f8a7ff.png)\n",
        "\n",
        "### Given the X pandas Series, add 5 to every element\n"
      ]
    },
    {
      "cell_type": "code",
      "metadata": {
        "id": "_C3CvqZeJnI0",
        "outputId": "8c48eece-69b7-43dc-c52f-51cf05ef0bdc",
        "colab": {
          "base_uri": "https://localhost:8080/"
        }
      },
      "source": [
        "# your code goes here\n",
        "X = pd.Series([1,2,3,4,5])\n",
        "\n",
        "X + 5\n",
        "print(X + 5)\n",
        "\n",
        "\n"
      ],
      "execution_count": 51,
      "outputs": [
        {
          "output_type": "stream",
          "text": [
            "0     6\n",
            "1     7\n",
            "2     8\n",
            "3     9\n",
            "4    10\n",
            "dtype: int64\n"
          ],
          "name": "stdout"
        }
      ]
    },
    {
      "cell_type": "code",
      "metadata": {
        "cell_type": "solution",
        "id": "aIT2HbK9JnI0"
      },
      "source": [
        "X = pd.Series([1,2,3,4,5])\n",
        "\n",
        "X + 5"
      ],
      "execution_count": null,
      "outputs": []
    },
    {
      "cell_type": "markdown",
      "metadata": {
        "id": "iEi4g7zIJnI0"
      },
      "source": [
        "![purple-divider](https://user-images.githubusercontent.com/7065401/52071927-c1cd7100-2562-11e9-908a-dde91ba14e59.png)\n",
        "\n",
        "## Series boolean arrays (also called masks)"
      ]
    },
    {
      "cell_type": "markdown",
      "metadata": {
        "id": "7ZF3bEc7JnI0"
      },
      "source": [
        "### Given the X pandas Series, make a mask showing negative elements\n"
      ]
    },
    {
      "cell_type": "code",
      "metadata": {
        "id": "TZH_ZIeoJnI0",
        "outputId": "602f5343-1a6c-4cc6-9b15-4aca818b836d",
        "colab": {
          "base_uri": "https://localhost:8080/"
        }
      },
      "source": [
        "# your code goes here\n",
        "X = pd.Series([-1,2,0,-4,5,6,0,0,-9,10])\n",
        "\n",
        "mask = X <= 0\n",
        "mask\n"
      ],
      "execution_count": 57,
      "outputs": [
        {
          "output_type": "execute_result",
          "data": {
            "text/plain": [
              "0     True\n",
              "1    False\n",
              "2     True\n",
              "3     True\n",
              "4    False\n",
              "5    False\n",
              "6     True\n",
              "7     True\n",
              "8     True\n",
              "9    False\n",
              "dtype: bool"
            ]
          },
          "metadata": {
            "tags": []
          },
          "execution_count": 57
        }
      ]
    },
    {
      "cell_type": "code",
      "metadata": {
        "cell_type": "solution",
        "id": "5xBhKQTTJnI0",
        "outputId": "dbc572c4-0401-47f1-8b46-f262b266491f",
        "colab": {
          "base_uri": "https://localhost:8080/"
        }
      },
      "source": [
        "X = pd.Series([-1,2,0,-4,5,6,0,0,-9,10])\n",
        "\n",
        "mask = X <= 0\n",
        "mask"
      ],
      "execution_count": 56,
      "outputs": [
        {
          "output_type": "execute_result",
          "data": {
            "text/plain": [
              "0     True\n",
              "1    False\n",
              "2     True\n",
              "3     True\n",
              "4    False\n",
              "5    False\n",
              "6     True\n",
              "7     True\n",
              "8     True\n",
              "9    False\n",
              "dtype: bool"
            ]
          },
          "metadata": {
            "tags": []
          },
          "execution_count": 56
        }
      ]
    },
    {
      "cell_type": "markdown",
      "metadata": {
        "id": "8jkArG9VJnI0"
      },
      "source": [
        "![green-divider](https://user-images.githubusercontent.com/7065401/52071924-c003ad80-2562-11e9-8297-1c6595f8a7ff.png)\n",
        "\n",
        "### Given the X pandas Series, get the negative elements\n"
      ]
    },
    {
      "cell_type": "code",
      "metadata": {
        "id": "KuSwtqXMJnI0",
        "outputId": "98e65449-a535-43c0-ac58-52dcdc90bcbc",
        "colab": {
          "base_uri": "https://localhost:8080/"
        }
      },
      "source": [
        "# your code goes here\n",
        "X = pd.Series([-1,2,0,-4,5,6,0,0,-9,10])\n",
        "\n",
        "mask = X < 0\n",
        "X[mask]"
      ],
      "execution_count": 62,
      "outputs": [
        {
          "output_type": "execute_result",
          "data": {
            "text/plain": [
              "0   -1\n",
              "3   -4\n",
              "8   -9\n",
              "dtype: int64"
            ]
          },
          "metadata": {
            "tags": []
          },
          "execution_count": 62
        }
      ]
    },
    {
      "cell_type": "code",
      "metadata": {
        "cell_type": "solution",
        "id": "wDeuUYATJnI0"
      },
      "source": [
        "X = pd.Series([-1,2,0,-4,5,6,0,0,-9,10])\n",
        "\n",
        "\n",
        "\n",
        "\n",
        "\n",
        "\n",
        "\n",
        "\n",
        "mask = X <= 0\n",
        "X[mask]"
      ],
      "execution_count": null,
      "outputs": []
    },
    {
      "cell_type": "markdown",
      "metadata": {
        "id": "ZcKIpVdEJnI0"
      },
      "source": [
        "![green-divider](https://user-images.githubusercontent.com/7065401/52071924-c003ad80-2562-11e9-8297-1c6595f8a7ff.png)\n",
        "\n",
        "### Given the X pandas Series, get numbers higher than 5\n"
      ]
    },
    {
      "cell_type": "code",
      "metadata": {
        "id": "X11Syhm8JnI0",
        "outputId": "555b3175-3074-4313-bf92-3407e8bd8763",
        "colab": {
          "base_uri": "https://localhost:8080/"
        }
      },
      "source": [
        "# your code goes here\n",
        "X = pd.Series([-1,2,0,-4,5,6,0,0,-9,10])\n",
        "\n",
        "mask = X > 5\n",
        "X[mask]"
      ],
      "execution_count": 63,
      "outputs": [
        {
          "output_type": "execute_result",
          "data": {
            "text/plain": [
              "5     6\n",
              "9    10\n",
              "dtype: int64"
            ]
          },
          "metadata": {
            "tags": []
          },
          "execution_count": 63
        }
      ]
    },
    {
      "cell_type": "code",
      "metadata": {
        "cell_type": "solution",
        "id": "6r37N254JnI0"
      },
      "source": [
        "X = pd.Series([-1,2,0,-4,5,6,0,0,-9,10])\n",
        "\n",
        "\n",
        "\n",
        "\n",
        "\n",
        "\n",
        "\n",
        "\n",
        "mask = X > 5\n",
        "X[mask]"
      ],
      "execution_count": null,
      "outputs": []
    },
    {
      "cell_type": "markdown",
      "metadata": {
        "id": "f23jBX-sJnI0"
      },
      "source": [
        "![green-divider](https://user-images.githubusercontent.com/7065401/52071924-c003ad80-2562-11e9-8297-1c6595f8a7ff.png)\n",
        "\n",
        "### Given the X pandas Series, get numbers higher than the elements mean"
      ]
    },
    {
      "cell_type": "code",
      "metadata": {
        "id": "OHB0dOK_JnI0",
        "outputId": "8423c1ad-be7c-4efa-c7d2-568f4f24754b",
        "colab": {
          "base_uri": "https://localhost:8080/"
        }
      },
      "source": [
        "# your code goes here\n",
        "X = pd.Series([-1,2,0,-4,5,6,0,0,-9,10])\n",
        "\n",
        "mask = X > X.mean()\n",
        "print(X.mean())\n",
        "print(X[mask])"
      ],
      "execution_count": 66,
      "outputs": [
        {
          "output_type": "stream",
          "text": [
            "0.9\n",
            "1     2\n",
            "4     5\n",
            "5     6\n",
            "9    10\n",
            "dtype: int64\n"
          ],
          "name": "stdout"
        }
      ]
    },
    {
      "cell_type": "code",
      "metadata": {
        "cell_type": "solution",
        "id": "uC3xIJbEJnI0"
      },
      "source": [
        "X = pd.Series([-1,2,0,-4,5,6,0,0,-9,10])\n",
        "\n",
        "\n",
        "\n",
        "\n",
        "mask = X > X.mean()\n",
        "X[mask]"
      ],
      "execution_count": null,
      "outputs": []
    },
    {
      "cell_type": "markdown",
      "metadata": {
        "id": "Y9NpCe5YJnI0"
      },
      "source": [
        "![green-divider](https://user-images.githubusercontent.com/7065401/52071924-c003ad80-2562-11e9-8297-1c6595f8a7ff.png)\n",
        "\n",
        "### Given the X pandas Series, get numbers equal to 2 or 10\n"
      ]
    },
    {
      "cell_type": "code",
      "metadata": {
        "id": "lfDXH_6DJnI0",
        "outputId": "eaf93ed8-dab4-44e6-a0c9-19ea0cc6c921",
        "colab": {
          "base_uri": "https://localhost:8080/"
        }
      },
      "source": [
        "# your code goes here\n",
        "x = pd.Series([-1,2,0,-4,5,6,0,0,-9,10])\n",
        "\n",
        "mask = (x == 2) | (x == 10)\n",
        "x[mask]\n",
        "\n"
      ],
      "execution_count": 67,
      "outputs": [
        {
          "output_type": "execute_result",
          "data": {
            "text/plain": [
              "1     2\n",
              "9    10\n",
              "dtype: int64"
            ]
          },
          "metadata": {
            "tags": []
          },
          "execution_count": 67
        }
      ]
    },
    {
      "cell_type": "code",
      "metadata": {
        "cell_type": "solution",
        "scrolled": true,
        "id": "7NIkJwjtJnI0"
      },
      "source": [
        "X = pd.Series([-1,2,0,-4,5,6,0,0,-9,10])\n",
        "\n",
        "mask = (X == 2) | (X == 10)\n",
        "X[mask]"
      ],
      "execution_count": null,
      "outputs": []
    },
    {
      "cell_type": "markdown",
      "metadata": {
        "id": "4lbhMjLDJnI1"
      },
      "source": [
        "![purple-divider](https://user-images.githubusercontent.com/7065401/52071927-c1cd7100-2562-11e9-908a-dde91ba14e59.png)\n",
        "\n",
        "## Logic functions"
      ]
    },
    {
      "cell_type": "markdown",
      "metadata": {
        "id": "IOJZaEsjJnI1"
      },
      "source": [
        "### Given the X pandas Series, return True if none of its elements is zero"
      ]
    },
    {
      "cell_type": "code",
      "metadata": {
        "id": "IHII7TkSJnI1",
        "outputId": "f9a026ae-b2b2-40d9-c937-461c9f35c293",
        "colab": {
          "base_uri": "https://localhost:8080/"
        }
      },
      "source": [
        "# your code goes here\n",
        "x = pd.Series([-1,2,0,-4,5,6,0,0,-9,10])\n",
        "\n",
        "x.all()\n"
      ],
      "execution_count": 68,
      "outputs": [
        {
          "output_type": "execute_result",
          "data": {
            "text/plain": [
              "False"
            ]
          },
          "metadata": {
            "tags": []
          },
          "execution_count": 68
        }
      ]
    },
    {
      "cell_type": "code",
      "metadata": {
        "cell_type": "solution",
        "id": "SlenAroAJnI1"
      },
      "source": [
        "X = pd.Series([-1,2,0,-4,5,6,0,0,-9,10])\n",
        "\n",
        "X.all()"
      ],
      "execution_count": null,
      "outputs": []
    },
    {
      "cell_type": "markdown",
      "metadata": {
        "id": "33Lc3QxDJnI1"
      },
      "source": [
        "![green-divider](https://user-images.githubusercontent.com/7065401/52071924-c003ad80-2562-11e9-8297-1c6595f8a7ff.png)\n",
        "\n",
        "### Given the X pandas Series, return True if any of its elements is zero\n"
      ]
    },
    {
      "cell_type": "code",
      "metadata": {
        "id": "ibrntaodJnI1",
        "outputId": "ed439375-f563-47a2-8562-b39a8f58e8c2",
        "colab": {
          "base_uri": "https://localhost:8080/"
        }
      },
      "source": [
        "# your code goes here\n",
        "x = pd.Series([-1,2,0,-4,5,6,0,0,-9,10])\n",
        "\n",
        "x.any()\n",
        "\n"
      ],
      "execution_count": 69,
      "outputs": [
        {
          "output_type": "execute_result",
          "data": {
            "text/plain": [
              "True"
            ]
          },
          "metadata": {
            "tags": []
          },
          "execution_count": 69
        }
      ]
    },
    {
      "cell_type": "code",
      "metadata": {
        "cell_type": "solution",
        "id": "RK3NkifeJnI1"
      },
      "source": [
        "X = pd.Series([-1,2,0,-4,5,6,0,0,-9,10])\n",
        "\n",
        "X.any()"
      ],
      "execution_count": null,
      "outputs": []
    },
    {
      "cell_type": "markdown",
      "metadata": {
        "id": "ClZT4ZEwJnI1"
      },
      "source": [
        "![purple-divider](https://user-images.githubusercontent.com/7065401/52071927-c1cd7100-2562-11e9-908a-dde91ba14e59.png)\n",
        "\n",
        "## Summary statistics"
      ]
    },
    {
      "cell_type": "markdown",
      "metadata": {
        "id": "I29cuECBJnI1"
      },
      "source": [
        "### Given the X pandas Series, show the sum of its elements\n"
      ]
    },
    {
      "cell_type": "code",
      "metadata": {
        "id": "YAOhH0yWJnI1",
        "outputId": "45c2f6d2-9f27-4af3-b30f-6c8b3b879f15",
        "colab": {
          "base_uri": "https://localhost:8080/"
        }
      },
      "source": [
        "# your code goes here\n",
        "x = pd.Series([3,5,6,7,2,3,4,9,4])\n",
        "\n",
        "# np.sum(x)\n",
        "x.sum()\n",
        "\n",
        "\n"
      ],
      "execution_count": 71,
      "outputs": [
        {
          "output_type": "execute_result",
          "data": {
            "text/plain": [
              "43"
            ]
          },
          "metadata": {
            "tags": []
          },
          "execution_count": 71
        }
      ]
    },
    {
      "cell_type": "code",
      "metadata": {
        "cell_type": "solution",
        "id": "xA2eTOvBJnI1"
      },
      "source": [
        "X = pd.Series([3,5,6,7,2,3,4,9,4])\n",
        "\n",
        "#np.sum(X)\n",
        "X.sum()"
      ],
      "execution_count": null,
      "outputs": []
    },
    {
      "cell_type": "markdown",
      "metadata": {
        "id": "VCvO3-DSJnI1"
      },
      "source": [
        "![green-divider](https://user-images.githubusercontent.com/7065401/52071924-c003ad80-2562-11e9-8297-1c6595f8a7ff.png)\n",
        "\n",
        "### Given the X pandas Series, show the mean value of its elements"
      ]
    },
    {
      "cell_type": "code",
      "metadata": {
        "id": "dqM4Un_KJnI1",
        "outputId": "08c3827c-55af-4e3d-d71f-8d31217066a6",
        "colab": {
          "base_uri": "https://localhost:8080/"
        }
      },
      "source": [
        "# your code goes here\n",
        "X = pd.Series([1,2,0,4,5,6,0,0,9,10])\n",
        "\n",
        "print(np.mean(x),\n",
        "x.mean()\n",
        ")"
      ],
      "execution_count": 73,
      "outputs": [
        {
          "output_type": "stream",
          "text": [
            "4.777777777777778 4.777777777777778\n"
          ],
          "name": "stdout"
        }
      ]
    },
    {
      "cell_type": "code",
      "metadata": {
        "cell_type": "solution",
        "id": "RR-pvlh5JnI1"
      },
      "source": [
        "X = pd.Series([1,2,0,4,5,6,0,0,9,10])\n",
        "\n",
        "#np.mean(X)\n",
        "X.mean()"
      ],
      "execution_count": null,
      "outputs": []
    },
    {
      "cell_type": "markdown",
      "metadata": {
        "id": "awyZ9mZmJnI1"
      },
      "source": [
        "![green-divider](https://user-images.githubusercontent.com/7065401/52071924-c003ad80-2562-11e9-8297-1c6595f8a7ff.png)\n",
        "\n",
        "### Given the X pandas Series, show the max value of its elements"
      ]
    },
    {
      "cell_type": "code",
      "metadata": {
        "id": "rWVfazo8JnI1",
        "outputId": "8e6b78ec-1116-47d4-d1bf-18c69e679010",
        "colab": {
          "base_uri": "https://localhost:8080/"
        }
      },
      "source": [
        "# your code goes here\n",
        "x = pd.Series([1,2,0,4,5,6,0,0,9,10])\n",
        "\n",
        "x.max()\n",
        "\n"
      ],
      "execution_count": 78,
      "outputs": [
        {
          "output_type": "execute_result",
          "data": {
            "text/plain": [
              "10"
            ]
          },
          "metadata": {
            "tags": []
          },
          "execution_count": 78
        }
      ]
    },
    {
      "cell_type": "code",
      "metadata": {
        "cell_type": "solution",
        "id": "s9kznUI0JnI1",
        "outputId": "c98efcbc-f687-4f0c-ef2f-bd21a6465964",
        "colab": {
          "base_uri": "https://localhost:8080/"
        }
      },
      "source": [
        "X = pd.Series([1,2,0,4,5,6,0,0,9,10])\n",
        "\n",
        "#np.max(X)\n",
        "X.max()"
      ],
      "execution_count": 76,
      "outputs": [
        {
          "output_type": "execute_result",
          "data": {
            "text/plain": [
              "10"
            ]
          },
          "metadata": {
            "tags": []
          },
          "execution_count": 76
        }
      ]
    },
    {
      "cell_type": "markdown",
      "metadata": {
        "id": "9rcbCy3hJnI1"
      },
      "source": [
        "![purple-divider](https://user-images.githubusercontent.com/7065401/52071927-c1cd7100-2562-11e9-908a-dde91ba14e59.png)"
      ]
    }
  ]
}